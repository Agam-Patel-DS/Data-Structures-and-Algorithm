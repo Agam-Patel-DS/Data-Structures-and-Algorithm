{
 "cells": [
  {
   "cell_type": "markdown",
   "id": "250e9e68-36dc-4e1e-993c-5b44fb03b5b1",
   "metadata": {},
   "source": [
    "# Sort 0s, 1s and 2s\r\n"
   ]
  },
  {
   "cell_type": "markdown",
   "id": "c78ef507-99d2-4a9f-8972-0dc95132e633",
   "metadata": {},
   "source": [
    "## Given an array arr containing only 0s, 1s, and 2s. Sort the array in ascending order."
   ]
  },
  {
   "cell_type": "markdown",
   "id": "3865990d-40e7-4ee6-933c-ea608f5f6d93",
   "metadata": {},
   "source": [
    "Input: arr[]= [0, 2, 1, 2, 0]\n",
    "\n",
    "Output: 0 0 1 2 2\n",
    "\n",
    "Explanation: 0s 1s and 2s are segregated into ascending order.\n",
    "\n",
    "Input: arr[] = [0, 1, 0]\n",
    "\n",
    "Output: 0 0 1\n",
    "\n",
    "Explanation: 0s 1s and 2s are segregated into ascending order"
   ]
  },
  {
   "cell_type": "markdown",
   "id": "cb53caff-77a4-4839-997c-85f6608a6e6d",
   "metadata": {},
   "source": [
    "Expected Time Complexity: O(n)\n",
    "\n",
    "Expected Auxiliary Space: O(1)"
   ]
  },
  {
   "cell_type": "markdown",
   "id": "4a6ff872-21df-49e7-9cef-de0b7d0476fb",
   "metadata": {},
   "source": [
    "# Solution"
   ]
  },
  {
   "cell_type": "code",
   "execution_count": 56,
   "id": "e7bbd94b-7770-48d0-aa2f-aa74fa0a4517",
   "metadata": {},
   "outputs": [],
   "source": [
    "def sort(arr):\n",
    "    arr.sort()\n",
    "    return arr"
   ]
  },
  {
   "cell_type": "code",
   "execution_count": 58,
   "id": "9db88a99-03c8-46e8-af75-34f24c39adba",
   "metadata": {},
   "outputs": [
    {
     "data": {
      "text/plain": [
       "[0, 0, 0, 0, 1, 1, 1, 1, 1, 2, 2, 2, 2, 2]"
      ]
     },
     "execution_count": 58,
     "metadata": {},
     "output_type": "execute_result"
    }
   ],
   "source": [
    "sort([0,0,0,2,2,1,1,1,2,2,1,2,0,1])"
   ]
  },
  {
   "cell_type": "code",
   "execution_count": null,
   "id": "29a644b1-6187-41f8-9df4-66ef51f339c5",
   "metadata": {},
   "outputs": [],
   "source": []
  }
 ],
 "metadata": {
  "kernelspec": {
   "display_name": "Python 3 (ipykernel)",
   "language": "python",
   "name": "python3"
  },
  "language_info": {
   "codemirror_mode": {
    "name": "ipython",
    "version": 3
   },
   "file_extension": ".py",
   "mimetype": "text/x-python",
   "name": "python",
   "nbconvert_exporter": "python",
   "pygments_lexer": "ipython3",
   "version": "3.11.7"
  }
 },
 "nbformat": 4,
 "nbformat_minor": 5
}
