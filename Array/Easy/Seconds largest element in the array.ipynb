{
 "cells": [
  {
   "cell_type": "markdown",
   "id": "56e9805d-a7d0-4a36-bfc2-09130c75a735",
   "metadata": {},
   "source": [
    "# Second Largest Element in a list"
   ]
  },
  {
   "cell_type": "markdown",
   "id": "ed715b92-ef9e-4db6-afda-a1a700f3f75f",
   "metadata": {},
   "source": [
    "## Given an array arr, return the second largest distinct element from an array. If the second largest element doesn't exist then return -1."
   ]
  },
  {
   "cell_type": "markdown",
   "id": "ee0ccbbd-c78c-447e-b37c-5e759cb3a0a5",
   "metadata": {},
   "source": [
    "Input: arr = [12, 35, 1, 10, 34, 1]\n",
    "\n",
    "Output: 34\n",
    "\n",
    "Explanation: The largest element of the array is 35 and the second largest element is 34.\n",
    "\n",
    "Input: arr = [10, 10]\n",
    "\n",
    "Output: -1\n",
    "\n",
    "Explanation: The largest element of the array is 10 and the second largest element does not exist so answer is -1."
   ]
  },
  {
   "cell_type": "markdown",
   "id": "e9368b27-891a-47d6-87ad-31e290e7583d",
   "metadata": {},
   "source": [
    "Expected Time Complexity: O(n)\n",
    "\r\n",
    "Expected Auxiliary Space: O(1)"
   ]
  },
  {
   "cell_type": "markdown",
   "id": "764b4942-0fc3-442a-aa9c-5d053fdabd6a",
   "metadata": {},
   "source": [
    "## Solution"
   ]
  },
  {
   "cell_type": "code",
   "execution_count": 26,
   "id": "5a816917-6e37-4bab-b73e-b96c4eb752e1",
   "metadata": {},
   "outputs": [],
   "source": [
    "def second_largest(arr):\n",
    "    max=-1\n",
    "    second=-1\n",
    "    for i in arr:\n",
    "        if i>max:\n",
    "            max=i\n",
    "    for i in arr:\n",
    "        if i<max and i>second:\n",
    "            second=i\n",
    "    if max!=second:\n",
    "        #print(f\"The max is  {max} and the seconds largest is {second}.\")\n",
    "        return second\n",
    "    else:\n",
    "        #print(f\"The max is  {max} and the seconds largest is {second}.\")\n",
    "        return -1"
   ]
  },
  {
   "cell_type": "code",
   "execution_count": 34,
   "id": "89b57e18-6e25-4ba6-b8f8-d1c97f12164e",
   "metadata": {},
   "outputs": [
    {
     "name": "stdout",
     "output_type": "stream",
     "text": [
      "The max is  2 and the seconds largest is 1.\n"
     ]
    },
    {
     "data": {
      "text/plain": [
       "1"
      ]
     },
     "execution_count": 34,
     "metadata": {},
     "output_type": "execute_result"
    }
   ],
   "source": [
    "second_largest([0,0,0,0,2,2,2,2,1,1,1,1])"
   ]
  },
  {
   "cell_type": "markdown",
   "id": "3675675f-b410-4a62-8ac3-d7c7a1477509",
   "metadata": {},
   "source": [
    "The code gives the perfect answer!"
   ]
  }
 ],
 "metadata": {
  "kernelspec": {
   "display_name": "Python 3 (ipykernel)",
   "language": "python",
   "name": "python3"
  },
  "language_info": {
   "codemirror_mode": {
    "name": "ipython",
    "version": 3
   },
   "file_extension": ".py",
   "mimetype": "text/x-python",
   "name": "python",
   "nbconvert_exporter": "python",
   "pygments_lexer": "ipython3",
   "version": "3.11.7"
  }
 },
 "nbformat": 4,
 "nbformat_minor": 5
}
