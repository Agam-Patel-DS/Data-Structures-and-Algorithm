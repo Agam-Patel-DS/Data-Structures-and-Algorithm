{
 "cells": [
  {
   "cell_type": "markdown",
   "id": "9ef7fe8c-2994-45a7-b726-9e64be98d78b",
   "metadata": {},
   "source": [
    "# Given an array arr of n positive integers, your task is to find all the leaders in the array. An element of the array is considered a leader if it is greater than all the elements on its right side or if it is equal to the maximum element on its right side. The rightmost element is always a leader."
   ]
  },
  {
   "cell_type": "markdown",
   "id": "c16d419b-0117-4d31-b0d8-506ca32043ac",
   "metadata": {},
   "source": [
    "**Expected Time Complexity:** O(n)\n",
    "\n",
    "**Expected Auxiliary Space:** O(n)"
   ]
  },
  {
   "cell_type": "markdown",
   "id": "46186115-b5ca-4609-ba32-54c5a031627a",
   "metadata": {},
   "source": [
    "#### Test Case"
   ]
  },
  {
   "cell_type": "code",
   "execution_count": 53,
   "id": "78812995-a2c9-427a-8729-b38d6ff3ac1e",
   "metadata": {},
   "outputs": [],
   "source": [
    "n = 4\n",
    "arr = [30, 10, 10, 5]"
   ]
  },
  {
   "cell_type": "markdown",
   "id": "cf518f5d-905b-4cd3-a7de-2efc3219e5f8",
   "metadata": {},
   "source": [
    "#### Points to Mind\n",
    "- The last element is always going to be the Leader\n",
    "- To shorten the apporach, we can start from the right of the array."
   ]
  },
  {
   "cell_type": "markdown",
   "id": "8077c7ad-4969-4ab5-9932-70fbdf2e11ef",
   "metadata": {},
   "source": [
    "#### Solution Code"
   ]
  },
  {
   "cell_type": "code",
   "execution_count": 122,
   "id": "4951389f-5649-4725-9487-6ee53c978724",
   "metadata": {},
   "outputs": [],
   "source": [
    "def leaders(arr,n):\n",
    "    leaders=[] #list to store the leaders\n",
    "    big=0\n",
    "    for i in range(n-1,-1,-1):\n",
    "        if i==n:\n",
    "            leaders.append(arr[i])\n",
    "            big=arr[i]\n",
    "        if arr[i]>=big:\n",
    "            leaders.append(arr[i])\n",
    "            big=arr[i]\n",
    "    for i in range(0,int(len(leaders)/2)):\n",
    "        temp=leaders[i]\n",
    "        leaders[i]=leaders[len(leaders)-1-i]\n",
    "        leaders[len(leaders)-1-i]=temp\n",
    "    return leaders\n",
    "        "
   ]
  },
  {
   "cell_type": "markdown",
   "id": "0a7ee60f-046c-4883-b7dc-564bad2b2d1f",
   "metadata": {},
   "source": [
    "#### Test Case"
   ]
  },
  {
   "cell_type": "code",
   "execution_count": 125,
   "id": "afab0259-680e-4482-834f-15cdfdbce157",
   "metadata": {},
   "outputs": [
    {
     "data": {
      "text/plain": [
       "[30, 10, 10, 5]"
      ]
     },
     "execution_count": 125,
     "metadata": {},
     "output_type": "execute_result"
    }
   ],
   "source": [
    "leaders(arr,n)"
   ]
  }
 ],
 "metadata": {
  "kernelspec": {
   "display_name": "Python 3 (ipykernel)",
   "language": "python",
   "name": "python3"
  },
  "language_info": {
   "codemirror_mode": {
    "name": "ipython",
    "version": 3
   },
   "file_extension": ".py",
   "mimetype": "text/x-python",
   "name": "python",
   "nbconvert_exporter": "python",
   "pygments_lexer": "ipython3",
   "version": "3.11.7"
  }
 },
 "nbformat": 4,
 "nbformat_minor": 5
}
