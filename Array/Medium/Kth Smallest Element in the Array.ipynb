{
 "cells": [
  {
   "cell_type": "markdown",
   "id": "530ee3b9-9ac5-403c-9447-3b574cef583b",
   "metadata": {},
   "source": [
    "# Kth Smallest Element in the Array"
   ]
  },
  {
   "cell_type": "markdown",
   "id": "6705e346-e8e3-4b5a-9681-b81b74b81537",
   "metadata": {},
   "source": [
    "# Given an array arr[] and an integer k where k is smaller than the size of the array, the task is to find the kth smallest element in the given array.\n",
    "## \r\n",
    "Follow up: Don't solve it using the inbuilt sort function: O(max_element)"
   ]
  },
  {
   "cell_type": "markdown",
   "id": "5b997d91-885b-4e82-b736-40f2bf5f56c4",
   "metadata": {},
   "source": [
    "### Solution"
   ]
  },
  {
   "cell_type": "markdown",
   "id": "70fc1559-b923-48c1-a7e7-0110fce35aff",
   "metadata": {},
   "source": [
    "We use custom sorting algorithm to sort the array. "
   ]
  },
  {
   "cell_type": "markdown",
   "id": "072fb90b-0c43-4618-8b92-4f3fb220dd0e",
   "metadata": {},
   "source": [
    "#### Sorting Algorithm: Counting Sort"
   ]
  },
  {
   "cell_type": "code",
   "execution_count": 6,
   "id": "0eda229d-a27b-4026-a831-34264477831c",
   "metadata": {},
   "outputs": [],
   "source": [
    "def counting_sort(arr):\n",
    "    max_val=max(arr)\n",
    "    count=[0]*(max_val+1)\n",
    "    for num in arr:\n",
    "        count[num]+=1\n",
    "    index=0\n",
    "    for i in range(len(count)):\n",
    "        while count[i]>0:\n",
    "            arr[index]=i\n",
    "            index+=1\n",
    "            count[i]-=1"
   ]
  },
  {
   "cell_type": "markdown",
   "id": "9f17fbe1-6864-496c-929f-1358cc9ca783",
   "metadata": {},
   "source": [
    "#### Calling Function"
   ]
  },
  {
   "cell_type": "code",
   "execution_count": 8,
   "id": "930d6c36-60d7-4436-b867-0eb5fd2990ea",
   "metadata": {},
   "outputs": [],
   "source": [
    "def kth_smallest(arr,k):\n",
    "    counting_sort(arr)\n",
    "    return arr[k-1]"
   ]
  },
  {
   "cell_type": "markdown",
   "id": "6891fd0e-0c5f-4dd3-90bc-64e887a69822",
   "metadata": {},
   "source": [
    "#### Complete Function"
   ]
  },
  {
   "cell_type": "code",
   "execution_count": 10,
   "id": "606250dc-6817-4398-90eb-0cf27ee0e067",
   "metadata": {},
   "outputs": [],
   "source": [
    "def kth_smallest(arr,k):\n",
    "    #Sorting the array starts\n",
    "    max_val=max(arr)\n",
    "    count=[0]*(max_val+1)\n",
    "    for num in arr:\n",
    "        count[num]+=1\n",
    "    index=0\n",
    "    for i in range(len(count)):\n",
    "        while count[i]>0:\n",
    "            arr[index]=i\n",
    "            index+=1\n",
    "            count[i]-=1\n",
    "    #Sorting the aray ends   \n",
    "    return arr[k-1]"
   ]
  },
  {
   "cell_type": "markdown",
   "id": "45b41af5-9070-40b1-8464-27f0f1cf764d",
   "metadata": {},
   "source": [
    "#### Driver Program"
   ]
  },
  {
   "cell_type": "code",
   "execution_count": 12,
   "id": "f37d83c9-ff43-432e-a9f8-7cc101dd026d",
   "metadata": {},
   "outputs": [
    {
     "data": {
      "text/plain": [
       "(4, 20)"
      ]
     },
     "execution_count": 12,
     "metadata": {},
     "output_type": "execute_result"
    }
   ],
   "source": [
    "arr=[7,10,4,20,15]\n",
    "k = 3\n",
    "min(arr), max(arr)"
   ]
  },
  {
   "cell_type": "code",
   "execution_count": 13,
   "id": "aae4be48-52d2-4ae3-acb0-3eb38d74f87d",
   "metadata": {},
   "outputs": [
    {
     "data": {
      "text/plain": [
       "10"
      ]
     },
     "execution_count": 13,
     "metadata": {},
     "output_type": "execute_result"
    }
   ],
   "source": [
    "kth_smallest(arr,k)"
   ]
  },
  {
   "cell_type": "markdown",
   "id": "bc628f78-a35e-46c1-a491-9d924f8f1bbc",
   "metadata": {},
   "source": [
    "The function returns the correct value!"
   ]
  }
 ],
 "metadata": {
  "kernelspec": {
   "display_name": "Python 3 (ipykernel)",
   "language": "python",
   "name": "python3"
  },
  "language_info": {
   "codemirror_mode": {
    "name": "ipython",
    "version": 3
   },
   "file_extension": ".py",
   "mimetype": "text/x-python",
   "name": "python",
   "nbconvert_exporter": "python",
   "pygments_lexer": "ipython3",
   "version": "3.11.7"
  }
 },
 "nbformat": 4,
 "nbformat_minor": 5
}
